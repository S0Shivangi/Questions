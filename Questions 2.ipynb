{
 "cells": [
  {
   "cell_type": "markdown",
   "metadata": {},
   "source": [
    "### Number Mirror\n",
    "Write a program that accepts a number, n, and outputs the same."
   ]
  },
  {
   "cell_type": "code",
   "execution_count": 31,
   "metadata": {},
   "outputs": [
    {
     "name": "stdout",
     "output_type": "stream",
     "text": [
      "Enter the number123\n",
      "123\n"
     ]
    }
   ],
   "source": [
    "print(int(input('Enter the number')))"
   ]
  },
  {
   "cell_type": "markdown",
   "metadata": {},
   "source": [
    "### Find Remainder \n",
    "Write a program to find the remainder when an integer A is divided by an integer B."
   ]
  },
  {
   "cell_type": "code",
   "execution_count": 34,
   "metadata": {},
   "outputs": [
    {
     "name": "stdout",
     "output_type": "stream",
     "text": [
      "enter the number of cases: 3\n",
      "Enter the numbers: 1 2\n",
      "1\n",
      "Enter the numbers: 100 200\n",
      "100\n",
      "Enter the numbers: 40 15\n",
      "10\n"
     ]
    }
   ],
   "source": [
    "n=int(input('enter the number of cases: '))\n",
    "for i in range(n):\n",
    "    A,B=map(int,input('Enter the numbers: ').split())\n",
    "    c=A%B\n",
    "    print(c)"
   ]
  },
  {
   "cell_type": "markdown",
   "metadata": {},
   "source": [
    "### First and Last Digit \n",
    "If Give an integer N . Write a program to obtain the sum of the first and last digits of this number."
   ]
  },
  {
   "cell_type": "code",
   "execution_count": 13,
   "metadata": {},
   "outputs": [
    {
     "name": "stdout",
     "output_type": "stream",
     "text": [
      "Enter the number of cases: 3\n",
      "Enter the number: 1234\n",
      "5\n",
      "Enter the number: 124894\n",
      "5\n",
      "Enter the number: 242323\n",
      "5\n"
     ]
    }
   ],
   "source": [
    "n=int(input('Enter the number of cases: '))\n",
    "for i in range(n):\n",
    "    m=int(input('Enter the number: '))\n",
    "    l=m%10\n",
    "    while m>0:\n",
    "        r=m%10\n",
    "        m=m//10\n",
    "    ans=l+r\n",
    "    print(ans)"
   ]
  },
  {
   "cell_type": "markdown",
   "metadata": {},
   "source": [
    "### Lucky Four\n",
    "Read problems statements in Mandarin Chinese and Russian.\n",
    "Kostya likes the number 4 much. Of course! This number has such a lot of properties, like:\n",
    "<ul>\n",
    "<li>Four is the smallest composite number;</li>\n",
    "<li>It is also the smallest Smith number;</li>\n",
    "<li>The smallest non-cyclic group has four elements;</li>\n",
    "<li>Four is the maximal degree of the equation that can be solved in radicals;</li>\n",
    "<li>There is four-color theorem that states that any map can be colored in no more than four colors in such a way that no two adjacent regions are colored in the same color;</li>\n",
    "<li>Lagrange's four-square theorem states that every positive integer can be written as the sum of at most four square numbers;</li>\n",
    "<li>Four is the maximum number of dimensions of a real division algebra;</li>\n",
    "<li>In bases 6 and 12, 4 is a 1-automorphic number;</li>\n",
    "<li>And there are a lot more cool stuff about this number!</li></ul>\n",
    "\n",
    "Impressed by the power of this number, Kostya has begun to look for occurrences of four anywhere. He has a list of T integers, for each of them he wants to calculate the number of occurrences of the digit 4 in the decimal representation. He is too busy now, so please help him.\n"
   ]
  },
  {
   "cell_type": "code",
   "execution_count": 2,
   "metadata": {},
   "outputs": [
    {
     "name": "stdout",
     "output_type": "stream",
     "text": [
      "Enter the number of integers in list: 5\n",
      "Enter the integer: 447474\n",
      "4\n",
      "Enter the integer: 228\n",
      "0\n",
      "Enter the integer: 6664\n",
      "1\n",
      "Enter the integer: 40\n",
      "1\n",
      "Enter the integer: 81\n",
      "0\n"
     ]
    }
   ],
   "source": [
    "t=int(input('Enter the number of integers in list: '))\n",
    "for i in range(t):\n",
    "    n=input('Enter the integer: ')\n",
    "    print(n.count('4'))"
   ]
  }
 ],
 "metadata": {
  "kernelspec": {
   "display_name": "Python 3",
   "language": "python",
   "name": "python3"
  },
  "language_info": {
   "codemirror_mode": {
    "name": "ipython",
    "version": 3
   },
   "file_extension": ".py",
   "mimetype": "text/x-python",
   "name": "python",
   "nbconvert_exporter": "python",
   "pygments_lexer": "ipython3",
   "version": "3.8.5"
  }
 },
 "nbformat": 4,
 "nbformat_minor": 4
}
