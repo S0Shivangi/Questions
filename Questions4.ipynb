{
 "cells": [
  {
   "cell_type": "markdown",
   "metadata": {},
   "source": [
    "### Second Largest\n",
    "Three numbers A, B and C are the inputs. Write a program to find second largest among them."
   ]
  },
  {
   "cell_type": "code",
   "execution_count": 13,
   "metadata": {},
   "outputs": [
    {
     "name": "stdout",
     "output_type": "stream",
     "text": [
      "Enter the number of testcases: 3\n",
      "Enter the integers: 120 11 400\n",
      "120\n",
      "Enter the integers: 10213 312 10\n",
      "312\n",
      "Enter the integers: 10 3 450\n",
      "10\n"
     ]
    }
   ],
   "source": [
    "for _ in range(int(input('Enter the number of testcases: '))):\n",
    "    i,j,k=map(int,input('Enter the integers: ').split())\n",
    "    if i>j>k:\n",
    "        print(j)\n",
    "    elif j>k>i:\n",
    "        print(k)\n",
    "    elif k>i>j:\n",
    "        print(i)\n",
    "    elif i>k>j:\n",
    "        print(k)\n",
    "    elif k>j>i:\n",
    "        print(j)\n",
    "    else :\n",
    "        print(i)"
   ]
  },
  {
   "cell_type": "markdown",
   "metadata": {},
   "source": [
    "### The Lead Game \n",
    "The game of billiards involves two players knocking 3 balls around on a green baize table. Well, there is more to it, but for our purposes this is sufficient.\n",
    "<br>\n",
    "The game consists of several rounds and in each round both players obtain a score, based on how well they played. Once all the rounds have been played, the total score of each player is determined by adding up the scores in all the rounds and the player with the higher total score is declared the winner.\n",
    "<br>\n",
    "The Siruseri Sports Club organises an annual billiards game where the top two players of Siruseri play against each other. The Manager of Siruseri Sports Club decided to add his own twist to the game by changing the rules for determining the winner. In his version, at the end of each round, the cumulative score for each player is calculated, and the leader and her current lead are found. Once all the rounds are over the player who had the maximum lead at the end of any round in the game is declared the winner.\n",
    "<br>\n",
    "Consider the following score sheet for a game with 5 rounds:\n",
    "<br>\n",
    "Round &emsp; Player 1 &emsp; Player 2 <br>\n",
    "1&emsp;&emsp;&emsp;&emsp;140&emsp;&emsp;&emsp;&emsp;82 <br>\n",
    "2&emsp;&emsp;&emsp;&emsp;89&emsp;&emsp;&emsp;&emsp;134<br>\n",
    "3&emsp;&emsp;&emsp;&emsp;90&emsp;&emsp;&emsp;&emsp;110<br>\n",
    "4&emsp;&emsp;&emsp;&emsp;112&emsp;&emsp;&emsp;&emsp;106<br>\n",
    "5&emsp;&emsp;&emsp;&emsp;88&emsp;&emsp;&emsp;&emsp;90\n",
    "<br>\n",
    "The total scores of both players, the leader and the lead after each round for this game is given below:\n",
    "<br>\n",
    "Round&emsp;Player 1&emsp;Player 2&emsp;&emsp;&emsp;&emsp;Leader&emsp;&emsp;&emsp;&emsp;Lead<br>\n",
    "1&emsp;&emsp;&emsp;&emsp;140&emsp;&emsp;&emsp;&emsp;82&emsp;&emsp;&emsp;&emsp;Player 1&emsp;&emsp;&emsp;&emsp;58<br>\n",
    "2&emsp;&emsp;&emsp;&emsp;229&emsp;&emsp;&emsp;&emsp;216&emsp;&emsp;&emsp;&emsp;Player 1&emsp;&emsp;&emsp;&emsp;13<br>\n",
    "3&emsp;&emsp;&emsp;&emsp;319&emsp;&emsp;&emsp;&emsp;326&emsp;&emsp;&emsp;&emsp;Player 2&emsp;&emsp;&emsp;&emsp;7<br>\n",
    "4&emsp;&emsp;&emsp;&emsp;431&emsp;&emsp;&emsp;&emsp;432&emsp;&emsp;&emsp;&emsp;Player 2&emsp;&emsp;&emsp;&emsp;1<br>\n",
    "5&emsp;&emsp;&emsp;&emsp;519&emsp;&emsp;&emsp;&emsp;522&emsp;&emsp;&emsp;&emsp;Player 2&emsp;&emsp;&emsp;&emsp;3\n",
    "<br>\n",
    "Note that the above table contains the cumulative scores.\n",
    "<br>\n",
    "The winner of this game is Player 1 as he had the maximum lead (58 at the end of round 1) during the game.\n",
    "<br>\n",
    "Your task is to help the Manager find the winner and the winning lead. You may assume that the scores will be such that there will always be a single winner. That is, there are no ties."
   ]
  },
  {
   "cell_type": "code",
   "execution_count": 65,
   "metadata": {
    "scrolled": true
   },
   "outputs": [
    {
     "name": "stdout",
     "output_type": "stream",
     "text": [
      "Enter the number of rounds: 5\n",
      "Enter the score: 140 82\n",
      "Enter the score: 89 134\n",
      "Enter the score: 90 110\n",
      "Enter the score: 112 106\n",
      "Enter the score: 88 90\n",
      "1 58\n"
     ]
    }
   ],
   "source": [
    "s1=[]\n",
    "s2=[]\n",
    "Player1=0\n",
    "Player2=0\n",
    "Player_won=[]\n",
    "leads=[]\n",
    "n=int(input('Enter the number of rounds: '))\n",
    "for i in range(0,n):\n",
    "    P1,P2=map(int,input('Enter the score: ').split())\n",
    "    s1.append(P1)\n",
    "    s2.append(P2)\n",
    "    Player1+=s1[i]\n",
    "    Player2+=s2[i]\n",
    "    if Player1>Player2:\n",
    "        lead=Player1-Player2\n",
    "        winner=1\n",
    "        Player_won.append(winner)\n",
    "        leads.append(lead)\n",
    "    else:\n",
    "        lead=Player2-Player1\n",
    "        winner=2\n",
    "        Player_won.append(winner)\n",
    "        leads.append(lead)\n",
    "print(Player_won[leads.index(max(leads))],max(leads))"
   ]
  },
  {
   "cell_type": "markdown",
   "metadata": {},
   "source": [
    "### Helping Chef\n",
    "Write a program, which takes an integer N and if the number is less than 10 then display \"Thanks for helping Chef!\" otherwise print \"-1\"."
   ]
  },
  {
   "cell_type": "code",
   "execution_count": 19,
   "metadata": {},
   "outputs": [
    {
     "name": "stdout",
     "output_type": "stream",
     "text": [
      "Enter the number of testcases: 3\n",
      "Enter the number: 1\n",
      "Thanks for helping Chef!\n",
      "Enter the number: 12\n",
      "-1\n",
      "Enter the number: -5\n",
      "Thanks for helping Chef!\n"
     ]
    }
   ],
   "source": [
    "for _ in range(int(input('Enter the number of testcases: '))):\n",
    "    n=input('Enter the number: ')\n",
    "    if int(n)<10:\n",
    "        print('Thanks for helping Chef!')\n",
    "    else:\n",
    "        print('-1')\n"
   ]
  },
  {
   "cell_type": "markdown",
   "metadata": {},
   "source": [
    "### Chef And Operators\n",
    "Chef has just started Programming, he is in first year of Engineering. Chef is reading about Relational Operators.\n",
    "<br>Relational Operators are operators which check relatioship between two values. Given two numerical values A and B you need to help chef in finding the relationship between them that is,\n",
    "<br><ul><li>First one is greater than second or,</li>\n",
    "<li>First one is less than second or,</li>\n",
    "<li>First and second one are equal.</li></ul>"
   ]
  },
  {
   "cell_type": "code",
   "execution_count": 21,
   "metadata": {},
   "outputs": [
    {
     "name": "stdout",
     "output_type": "stream",
     "text": [
      "Enter the number of testcases3\n",
      "Enter integers: 10 20\n",
      "<\n",
      "Enter integers: 20 10 \n",
      ">\n",
      "Enter integers: 10 10\n",
      "=\n"
     ]
    }
   ],
   "source": [
    "for _ in range(int(input('Enter the number of testcases'))):\n",
    "    A,B=map(int,input('Enter integers: ').split())\n",
    "    if A>B:\n",
    "        print('>')\n",
    "    elif A<B:\n",
    "        print('<')\n",
    "    else :\n",
    "        print('=')"
   ]
  }
 ],
 "metadata": {
  "kernelspec": {
   "display_name": "Python 3",
   "language": "python",
   "name": "python3"
  },
  "language_info": {
   "codemirror_mode": {
    "name": "ipython",
    "version": 3
   },
   "file_extension": ".py",
   "mimetype": "text/x-python",
   "name": "python",
   "nbconvert_exporter": "python",
   "pygments_lexer": "ipython3",
   "version": "3.8.5"
  }
 },
 "nbformat": 4,
 "nbformat_minor": 4
}
