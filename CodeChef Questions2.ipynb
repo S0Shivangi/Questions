{
 "cells": [
  {
   "cell_type": "markdown",
   "metadata": {},
   "source": [
    "### Sum of digits"
   ]
  },
  {
   "cell_type": "markdown",
   "metadata": {},
   "source": [
    "You're given an integer N. Write a program to calculate the sum of all the digits of N.<br>"
   ]
  },
  {
   "cell_type": "code",
   "execution_count": 14,
   "metadata": {},
   "outputs": [
    {
     "name": "stdout",
     "output_type": "stream",
     "text": [
      "3\n",
      "123\n",
      "6\n",
      "456\n",
      "15\n",
      "234\n",
      "9\n"
     ]
    }
   ],
   "source": [
    "n=int(input())\n",
    "for i in range(n):\n",
    "    num=int(input())\n",
    "    sum=0\n",
    "    t=num\n",
    "    while t!=0:\n",
    "        sum=sum+t%10\n",
    "        t=t//10\n",
    "    print(sum)"
   ]
  },
  {
   "cell_type": "markdown",
   "metadata": {},
   "source": [
    "### ATM\n",
    "Pooja would like to withdraw X US dollar from an ATM. The cash machine will only accept the transaction if X is a multiple of 5, and Pooja's account balance has enough cash to perform the withdrawal transaction (including bank charges). For each successful withdrawal the bank charges 0.50 US dollar. Calculate Pooja's account balance after an attempted transaction."
   ]
  },
  {
   "cell_type": "code",
   "execution_count": 12,
   "metadata": {},
   "outputs": [
    {
     "name": "stdout",
     "output_type": "stream",
     "text": [
      "Amount to be withdrawl and the balance:300 120\n",
      "Not enough money in account. Current balance is  120\n"
     ]
    }
   ],
   "source": [
    "w,b=input('Amount to be withdrawl and the balance:').split()\n",
    "#     P=int(input('Enter the balance: '))\n",
    "#     o=int(input('Amount to be withdrawl: '))\n",
    "if int(w)%5==0 and int(b)>=int(w):\n",
    "    c=int(b)-int(w)-0.5\n",
    "    print('Current acount balance: ',c)\n",
    "    print('Transaction is succesfull')\n",
    "elif int(w)%5!=0 :\n",
    "    print('Transaction failed . Current balance is ',b)\n",
    "else:\n",
    "    print('Not enough money in account. Current balance is ',b)\n"
   ]
  },
  {
   "cell_type": "markdown",
   "metadata": {},
   "source": [
    "### Enormous Input Test\n",
    "The purpose of this problem is to verify whether the method you are using to read input data is sufficiently fast to handle problems branded with the enormous Input/Output warning. You are expected to be able to process at least 2.5MB of input data per second at runtime."
   ]
  },
  {
   "cell_type": "code",
   "execution_count": 27,
   "metadata": {},
   "outputs": [
    {
     "name": "stdout",
     "output_type": "stream",
     "text": [
      "Enter the number:7 3\n",
      "Enter the number:1\n",
      "Enter the number:51\n",
      "Enter the number:966369\n",
      "Enter the number:7\n",
      "Enter the number:9\n",
      "Enter the number:999996\n",
      "Enter the number:11\n",
      "4\n"
     ]
    }
   ],
   "source": [
    "n,k=map(int,input('Enter the number:').split())\n",
    "a=0\n",
    "for i in range(n):\n",
    "    t=int(input('Enter the number:'))\n",
    "    if t%k==0:\n",
    "        a+=1\n",
    "print(a)"
   ]
  },
  {
   "cell_type": "markdown",
   "metadata": {},
   "source": [
    "### Add Two Numbers\n",
    "Shivam is the youngest programmer in the world, he is just 12 years old. Shivam is learning programming and today he is writing his first program.\n",
    "\n",
    "The task is very simple: given two integers A and B, write a program to add these two numbers and output it."
   ]
  },
  {
   "cell_type": "code",
   "execution_count": 29,
   "metadata": {},
   "outputs": [
    {
     "name": "stdout",
     "output_type": "stream",
     "text": [
      "Enter the nuber of cases:3\n",
      "enter the numbers: 1 2\n",
      "3\n",
      "enter the numbers: 100 200\n",
      "300\n",
      "enter the numbers: 10 40\n",
      "50\n"
     ]
    }
   ],
   "source": [
    "n=int(input('Enter the nuber of cases:'))\n",
    "for i in range(n):\n",
    "    i,j=map(int,input('enter the numbers: ').split())\n",
    "    s=i+j\n",
    "    print(s)"
   ]
  }
 ],
 "metadata": {
  "kernelspec": {
   "display_name": "Python 3",
   "language": "python",
   "name": "python3"
  }
 },
 "nbformat": 4,
 "nbformat_minor": 4
}
