{
 "cells": [
  {
   "cell_type": "markdown",
   "metadata": {},
   "source": [
    "Q1 WAF to calculate SI given P,R,T as its arguments."
   ]
  },
  {
   "cell_type": "code",
   "execution_count": 3,
   "metadata": {},
   "outputs": [],
   "source": [
    "def SI():\n",
    "    principal=int(input('Enter the number: '))\n",
    "    rate=int(input('Enter the number: '))\n",
    "    interest=int(input('Enter the number: '))\n",
    "    si=(principal*rate*interest)/100\n",
    "    print(si)"
   ]
  },
  {
   "cell_type": "code",
   "execution_count": 4,
   "metadata": {},
   "outputs": [
    {
     "name": "stdout",
     "output_type": "stream",
     "text": [
      "Enter the number: 34\n",
      "Enter the number: 3234\n",
      "Enter the number: 34\n",
      "37385.04\n"
     ]
    }
   ],
   "source": [
    "SI()"
   ]
  },
  {
   "cell_type": "markdown",
   "metadata": {},
   "source": [
    "Q2 WAF to calculate Profit or Loss and also find its percentage, given CP and SP as its arguments"
   ]
  },
  {
   "cell_type": "code",
   "execution_count": 5,
   "metadata": {},
   "outputs": [],
   "source": [
    "def P():\n",
    "    cp=int(input('Enter the number: '))\n",
    "    sp=int(input('Enter the number: '))\n",
    "    if sp>cp:\n",
    "        profit=sp-cp\n",
    "        profit_per =(profit/cp)*100\n",
    "        print(f'profit is {profit}and profit % is {profit_per}')\n",
    "    elif cp>sp:\n",
    "        loss=cp-sp\n",
    "        loss_per =(loss/cp)*100\n",
    "        print(f' loss is {loss} and loss % is {loss_per}')\n",
    "    else:\n",
    "        print('No profit no loss')"
   ]
  },
  {
   "cell_type": "code",
   "execution_count": 6,
   "metadata": {},
   "outputs": [
    {
     "name": "stdout",
     "output_type": "stream",
     "text": [
      "Enter the number: 24\n",
      "Enter the number: 34\n",
      "profit is 10and profit % is 41.66666666666667\n"
     ]
    }
   ],
   "source": [
    "P()"
   ]
  },
  {
   "cell_type": "markdown",
   "metadata": {},
   "source": [
    "Q3 WAF to calculate the diagonal of a rectangle given its area and breadth as its arguments"
   ]
  },
  {
   "cell_type": "code",
   "execution_count": 7,
   "metadata": {},
   "outputs": [],
   "source": [
    "def d():\n",
    "    breadth=int(input('Enter the breadth: '))\n",
    "    area=int(input('Enter the area: '))\n",
    "    length=area/breadth\n",
    "    d=((length)**(2)+(breadth)**2)**(1/2)\n",
    "    print(d)"
   ]
  },
  {
   "cell_type": "code",
   "execution_count": 8,
   "metadata": {},
   "outputs": [
    {
     "name": "stdout",
     "output_type": "stream",
     "text": [
      "Enter the breadth: 34\n",
      "Enter the area: 34\n",
      "34.0147027033899\n"
     ]
    }
   ],
   "source": [
    "d()"
   ]
  },
  {
   "cell_type": "markdown",
   "metadata": {},
   "source": [
    "or"
   ]
  },
  {
   "cell_type": "code",
   "execution_count": 9,
   "metadata": {},
   "outputs": [],
   "source": [
    "def d(b,a):\n",
    "    length=a/b\n",
    "    d=((length)**(2)+(b)**2)**(1/2)\n",
    "    print(d)"
   ]
  },
  {
   "cell_type": "code",
   "execution_count": 10,
   "metadata": {},
   "outputs": [
    {
     "name": "stdout",
     "output_type": "stream",
     "text": [
      "4.9006884623330516\n"
     ]
    }
   ],
   "source": [
    "d(3.4,12)"
   ]
  },
  {
   "cell_type": "markdown",
   "metadata": {},
   "source": [
    "Q4 WAF to find the farenheit values corresponding to Celcius values ranging from 0 to 40."
   ]
  },
  {
   "cell_type": "code",
   "execution_count": 11,
   "metadata": {},
   "outputs": [],
   "source": [
    "def F(): \n",
    "    for c in range(0,41):\n",
    "        f=c*(9/5)+32\n",
    "        print(f'Celcius {c} is equivalent to {round(f,1)} Farenheit')  "
   ]
  },
  {
   "cell_type": "code",
   "execution_count": 12,
   "metadata": {},
   "outputs": [
    {
     "name": "stdout",
     "output_type": "stream",
     "text": [
      "Celcius 0 is equivalent to 32.0 Farenheit\n",
      "Celcius 1 is equivalent to 33.8 Farenheit\n",
      "Celcius 2 is equivalent to 35.6 Farenheit\n",
      "Celcius 3 is equivalent to 37.4 Farenheit\n",
      "Celcius 4 is equivalent to 39.2 Farenheit\n",
      "Celcius 5 is equivalent to 41.0 Farenheit\n",
      "Celcius 6 is equivalent to 42.8 Farenheit\n",
      "Celcius 7 is equivalent to 44.6 Farenheit\n",
      "Celcius 8 is equivalent to 46.4 Farenheit\n",
      "Celcius 9 is equivalent to 48.2 Farenheit\n",
      "Celcius 10 is equivalent to 50.0 Farenheit\n",
      "Celcius 11 is equivalent to 51.8 Farenheit\n",
      "Celcius 12 is equivalent to 53.6 Farenheit\n",
      "Celcius 13 is equivalent to 55.4 Farenheit\n",
      "Celcius 14 is equivalent to 57.2 Farenheit\n",
      "Celcius 15 is equivalent to 59.0 Farenheit\n",
      "Celcius 16 is equivalent to 60.8 Farenheit\n",
      "Celcius 17 is equivalent to 62.6 Farenheit\n",
      "Celcius 18 is equivalent to 64.4 Farenheit\n",
      "Celcius 19 is equivalent to 66.2 Farenheit\n",
      "Celcius 20 is equivalent to 68.0 Farenheit\n",
      "Celcius 21 is equivalent to 69.8 Farenheit\n",
      "Celcius 22 is equivalent to 71.6 Farenheit\n",
      "Celcius 23 is equivalent to 73.4 Farenheit\n",
      "Celcius 24 is equivalent to 75.2 Farenheit\n",
      "Celcius 25 is equivalent to 77.0 Farenheit\n",
      "Celcius 26 is equivalent to 78.8 Farenheit\n",
      "Celcius 27 is equivalent to 80.6 Farenheit\n",
      "Celcius 28 is equivalent to 82.4 Farenheit\n",
      "Celcius 29 is equivalent to 84.2 Farenheit\n",
      "Celcius 30 is equivalent to 86.0 Farenheit\n",
      "Celcius 31 is equivalent to 87.8 Farenheit\n",
      "Celcius 32 is equivalent to 89.6 Farenheit\n",
      "Celcius 33 is equivalent to 91.4 Farenheit\n",
      "Celcius 34 is equivalent to 93.2 Farenheit\n",
      "Celcius 35 is equivalent to 95.0 Farenheit\n",
      "Celcius 36 is equivalent to 96.8 Farenheit\n",
      "Celcius 37 is equivalent to 98.6 Farenheit\n",
      "Celcius 38 is equivalent to 100.4 Farenheit\n",
      "Celcius 39 is equivalent to 102.2 Farenheit\n",
      "Celcius 40 is equivalent to 104.0 Farenheit\n"
     ]
    }
   ],
   "source": [
    "F()"
   ]
  },
  {
   "cell_type": "markdown",
   "metadata": {},
   "source": [
    "Q5 WAF to find the TSA of a cone given its volume and height. Also find the area of the circular base."
   ]
  },
  {
   "cell_type": "code",
   "execution_count": 13,
   "metadata": {},
   "outputs": [
    {
     "name": "stdout",
     "output_type": "stream",
     "text": [
      "Enter the volume: 34\n",
      "Enter the height: 34\n",
      "Total surface area is 107.39597693397958 and area of base is 3.0\n"
     ]
    }
   ],
   "source": [
    "def TSA():\n",
    "    v=int(input('Enter the volume: '))\n",
    "    h=int(input('Enter the height: '))\n",
    "    r=((3*v)/(3.14*h))**(1/2)\n",
    "    l=((h**2)+(r**2))**(1/2)\n",
    "    tsa=(3.14*r)*(r+l)\n",
    "    area_of_base=3.14*(r**2)\n",
    "    print(f'Total surface area is {tsa} and area of base is {area_of_base}')\n",
    "TSA()"
   ]
  },
  {
   "cell_type": "markdown",
   "metadata": {},
   "source": [
    "Q6 WAF to find the sum and product of digits of a given number as its arguments."
   ]
  },
  {
   "cell_type": "code",
   "execution_count": 14,
   "metadata": {},
   "outputs": [
    {
     "name": "stdout",
     "output_type": "stream",
     "text": [
      "[2, 0, 1, 9]\n"
     ]
    },
    {
     "data": {
      "text/plain": [
       "{'Sum of digits of 2019 is 12 and Product of digits of 2019 is 0'}"
      ]
     },
     "execution_count": 14,
     "metadata": {},
     "output_type": "execute_result"
    }
   ],
   "source": [
    "def num(n):\n",
    "    t=n\n",
    "    res=[int(x) for x in str(t)]\n",
    "    print(res)\n",
    "    f=0\n",
    "    g=1\n",
    "    for i in res:\n",
    "        f=f+i\n",
    "        g=g*i\n",
    "    return {f'Sum of digits of {n} is {f} and Product of digits of {n} is {g}'}\n",
    "num(2019)"
   ]
  },
  {
   "cell_type": "code",
   "execution_count": 15,
   "metadata": {
    "scrolled": true
   },
   "outputs": [
    {
     "name": "stdout",
     "output_type": "stream",
     "text": [
      "[2, 8, 4, 6]\n"
     ]
    },
    {
     "data": {
      "text/plain": [
       "{'Sum of digits of 2846 is 20 and Product of digits of 2846 is 384'}"
      ]
     },
     "execution_count": 15,
     "metadata": {},
     "output_type": "execute_result"
    }
   ],
   "source": [
    "num(2846)"
   ]
  },
  {
   "cell_type": "markdown",
   "metadata": {},
   "source": [
    "OR"
   ]
  },
  {
   "cell_type": "code",
   "execution_count": 16,
   "metadata": {},
   "outputs": [
    {
     "name": "stdout",
     "output_type": "stream",
     "text": [
      "Sum of digits of 357 is 15\n",
      "Product of digits of 357 is 105\n"
     ]
    }
   ],
   "source": [
    "def sum_prod_digits(num):\n",
    "    t=num\n",
    "    add,prod=0,1\n",
    "    while t>0:\n",
    "        rem=t%10\n",
    "        add+=rem\n",
    "        prod*=rem\n",
    "        t=t//10\n",
    "    print(f'Sum of digits of {num} is {add}')\n",
    "    print(f'Product of digits of {num} is {prod}')\n",
    "sum_prod_digits(357)\n",
    "# num=357, temp=357, add=0, prod=1\n",
    "# 1) rem= 357%10=7, add=0+7=7, prod=1*7=7, temp=357//10= 35\n",
    "# 2) rem= 35%10=5, add=7+5=12, prod=7*5=35, temp=35//10= 3\n",
    "# 3) rem= 3%10=3, add=12+3=15, prod=35*3=105, temp=3//10= 0"
   ]
  },
  {
   "cell_type": "markdown",
   "metadata": {},
   "source": [
    "Q7 WAF to find n digits of fibonaci series, given n as agrument using recursion [0,1,1,2,3,5,8,13,21,34,55......]."
   ]
  },
  {
   "cell_type": "code",
   "execution_count": 10,
   "metadata": {},
   "outputs": [
    {
     "name": "stdout",
     "output_type": "stream",
     "text": [
      "Fib0 is 0\n",
      "Fib1 is 1\n",
      "Fib2 is 1\n",
      "Fib3 is 2\n",
      "Fib4 is 3\n",
      "Fib5 is 5\n",
      "Fib6 is 8\n"
     ]
    },
    {
     "data": {
      "text/plain": [
       "5"
      ]
     },
     "execution_count": 10,
     "metadata": {},
     "output_type": "execute_result"
    }
   ],
   "source": [
    "def fib(n):\n",
    "    for i in range(0,7):\n",
    "        if n==0 or n==1:\n",
    "            return n\n",
    "        else:\n",
    "            return fib(n-1) + fib(n-2)\n",
    "for i in range (0,7):\n",
    "    print(f'Fib{i} is {fib(i)}')\n",
    "fib(5)\n",
    "# fib(2) = fib(1) + fib(0) = 1+0=1\n",
    "# fib(3) = fib(2) + fib(1) = 1+1=2\n",
    "# fib(4) = fib(3) + fib(2) = 2+1=3"
   ]
  },
  {
   "cell_type": "markdown",
   "metadata": {},
   "source": [
    "**OR**"
   ]
  },
  {
   "cell_type": "code",
   "execution_count": 25,
   "metadata": {},
   "outputs": [
    {
     "name": "stdout",
     "output_type": "stream",
     "text": [
      "Enter the limit: 6\n",
      "Fibonacci series\n",
      "0 1 1 2 3 5 "
     ]
    }
   ],
   "source": [
    "i=int(input('Enter the limit: '))\n",
    "x=0\n",
    "y=1\n",
    "z=1\n",
    "print(\"Fibonacci series\")\n",
    "print(x,y,end=' ')\n",
    "while(z<=i):\n",
    "     print(z,end=' ')\n",
    "     x=y\n",
    "     y=z\n",
    "     z=x+y"
   ]
  },
  {
   "cell_type": "markdown",
   "metadata": {},
   "source": [
    "Q8 WAF to check if a number is palindrome. Given number as its arguments."
   ]
  },
  {
   "cell_type": "code",
   "execution_count": 18,
   "metadata": {},
   "outputs": [
    {
     "name": "stdout",
     "output_type": "stream",
     "text": [
      "12321 is palindrome\n",
      "346 is not palindrome\n",
      "8558 is palindrome\n"
     ]
    }
   ],
   "source": [
    "def palin(m):\n",
    "    t=m\n",
    "    pal=0\n",
    "    while t>0:\n",
    "        rem=t%10\n",
    "        pal=pal*10+rem\n",
    "        t//=10\n",
    "    if m==pal:\n",
    "        print(f'{m} is palindrome')\n",
    "    else:\n",
    "        print(f'{m} is not palindrome')\n",
    "palin(12321)\n",
    "palin(346)\n",
    "palin(8558)\n",
    "# n=8558\n",
    "# temp=n=8558, pal=0\n",
    "# 1) rem=8558%10=8, pal=(0*10)+8=8, temp=8558//10=855\n",
    "# 2) rem=855%10=5, pal=(8*10)+5=85, temp=855//10=85\n",
    "# 3) rem=85%10=5, pal=(85*10)+5=855, temp=85//10=8\n",
    "# 4) rem=8%10=8, pal=(855*10)+5=8558, temp=8//10=0"
   ]
  },
  {
   "cell_type": "markdown",
   "metadata": {},
   "source": [
    "Q9 WAF to check if a number is armstrong.Given number as its arguments"
   ]
  },
  {
   "cell_type": "code",
   "execution_count": 19,
   "metadata": {},
   "outputs": [
    {
     "name": "stdout",
     "output_type": "stream",
     "text": [
      "7 is armstrong\n",
      "153 is armstrong\n"
     ]
    }
   ],
   "source": [
    "def armstrong(n):\n",
    "        length = len(str(n))\n",
    "        temp = n\n",
    "        arm = 0\n",
    "        while temp>0:\n",
    "            rem = temp%10\n",
    "            arm = arm + rem**length\n",
    "            temp //= 10\n",
    "        if n==arm:\n",
    "            print(f'{n} is armstrong')\n",
    "        else :\n",
    "            print(f'{n} is not a armstrong')\n",
    "armstrong(7)\n",
    "armstrong(153)\n",
    "# n=153, temp=153, arm=0\n",
    "# 1) rem=153%10=3, arm=0+3**3=27, temp=153//10=15\n",
    "# 2) rem=15%10=5, arm=27+5**3=27+125=152, temp=15//10=1\n",
    "# 3) rem=1%10=1, arm=152+1**3=152+1=153, temp=1//10=0"
   ]
  },
  {
   "cell_type": "markdown",
   "metadata": {},
   "source": [
    "Q10 WAF to print the initials of a name where the first and last name are given as arguments, e.g. abdul kalam - AK."
   ]
  },
  {
   "cell_type": "code",
   "execution_count": 1,
   "metadata": {},
   "outputs": [
    {
     "data": {
      "text/plain": [
       "'SL'"
      ]
     },
     "execution_count": 1,
     "metadata": {},
     "output_type": "execute_result"
    }
   ],
   "source": [
    "def ILname(n):\n",
    "    t=n\n",
    "    name_list=t.split()\n",
    "    initials=\"\"\n",
    "    for name in name_list:\n",
    "        initials+=name[0].upper()\n",
    "    return initials\n",
    "ILname(\"Shivangi lohia \")"
   ]
  },
  {
   "cell_type": "markdown",
   "metadata": {},
   "source": [
    "Q11 WAF to find the number of uppercase ,lowercase and space characters given a string(sentence) as its arguments."
   ]
  },
  {
   "cell_type": "code",
   "execution_count": 2,
   "metadata": {},
   "outputs": [
    {
     "name": "stdout",
     "output_type": "stream",
     "text": [
      "Upper:2, Lower: 13, Space:3, Digits:3, Spcl_Chars:1\n"
     ]
    }
   ],
   "source": [
    "def count_chars(sent):\n",
    "    uc,lc,space,dig,spc1=0,0,0,0,0\n",
    "    for i in sent:\n",
    "        if i.isupper():\n",
    "            uc+=1\n",
    "        elif i.islower():\n",
    "            lc+=1\n",
    "        elif i.isspace():\n",
    "            space+=1\n",
    "        elif i.isdigit():\n",
    "            dig+=1\n",
    "        else:\n",
    "            spc1+=1\n",
    "    print(f'Upper:{uc}, Lower: {lc}, Space:{space}, Digits:{dig}, Spcl_Chars:{spc1}')\n",
    "count_chars(\"Welcome to Python 3.10\")    \n",
    "\n",
    "    "
   ]
  },
  {
   "cell_type": "markdown",
   "metadata": {},
   "source": [
    "Q12 WAF to check if a number is prime or not.Given number as its argument."
   ]
  },
  {
   "cell_type": "code",
   "execution_count": 22,
   "metadata": {},
   "outputs": [
    {
     "name": "stdout",
     "output_type": "stream",
     "text": [
      "Factors of 3 are:\n",
      "[1, 3]\n"
     ]
    },
    {
     "data": {
      "text/plain": [
       "'3 is a prime number'"
      ]
     },
     "execution_count": 22,
     "metadata": {},
     "output_type": "execute_result"
    }
   ],
   "source": [
    "def factors(x):\n",
    "    r=[]\n",
    "    print('Factors of',x,'are:')\n",
    "    for i in range(1,x+1):\n",
    "        if x%i==0:\n",
    "            r.append(i)\n",
    "    print(r)\n",
    "    for i in r:\n",
    "        r.count(i)\n",
    "        if len(r)<=2:\n",
    "            return f'{x} is a prime number'\n",
    "        else:\n",
    "            return f'{x} is not a prime number'\n",
    "factors(3)"
   ]
  },
  {
   "cell_type": "raw",
   "metadata": {},
   "source": [
    "OR"
   ]
  },
  {
   "cell_type": "code",
   "execution_count": 1,
   "metadata": {},
   "outputs": [
    {
     "data": {
      "text/plain": [
       "False"
      ]
     },
     "execution_count": 1,
     "metadata": {},
     "output_type": "execute_result"
    }
   ],
   "source": [
    "def prime(n):\n",
    "    for i in range(2,n):\n",
    "        if n%i==0:\n",
    "            return False\n",
    "    return True\n",
    "prime(78)"
   ]
  },
  {
   "cell_type": "code",
   "execution_count": 2,
   "metadata": {},
   "outputs": [
    {
     "data": {
      "text/plain": [
       "True"
      ]
     },
     "execution_count": 2,
     "metadata": {},
     "output_type": "execute_result"
    }
   ],
   "source": [
    "prime(67)"
   ]
  },
  {
   "cell_type": "markdown",
   "metadata": {},
   "source": [
    "OR"
   ]
  },
  {
   "cell_type": "code",
   "execution_count": 24,
   "metadata": {},
   "outputs": [
    {
     "name": "stdout",
     "output_type": "stream",
     "text": [
      "67 is prime\n"
     ]
    }
   ],
   "source": [
    "def prime2(n):\n",
    "    c=0\n",
    "    for i in range(1,n+1):\n",
    "        if n%i==0:\n",
    "            c += 1\n",
    "    if c==2:\n",
    "        print(f'{n} is prime')\n",
    "    else:\n",
    "        print(f'{n} is not prime')\n",
    "prime2(67)"
   ]
  },
  {
   "cell_type": "markdown",
   "metadata": {},
   "source": [
    "Q13 WAF to find all the factors of a number. Given number as its argument."
   ]
  },
  {
   "cell_type": "code",
   "execution_count": 29,
   "metadata": {},
   "outputs": [],
   "source": [
    "def factors(x):\n",
    "    fact_list=[]\n",
    "    for i in range(1,x+1):\n",
    "        if x%i==0:\n",
    "            fact_list.append(i)\n",
    "    print(f'Factors of {x} are: {fact_list}')"
   ]
  },
  {
   "cell_type": "code",
   "execution_count": 30,
   "metadata": {
    "scrolled": true
   },
   "outputs": [
    {
     "name": "stdout",
     "output_type": "stream",
     "text": [
      "Factors of 56 are: [1, 2, 4, 7, 8, 14, 28, 56]\n"
     ]
    }
   ],
   "source": [
    "factors(56)"
   ]
  },
  {
   "cell_type": "markdown",
   "metadata": {},
   "source": [
    "## Prime number related questions"
   ]
  },
  {
   "cell_type": "markdown",
   "metadata": {},
   "source": [
    "1) WAF to find all the prime numbers between two numbers given as arguments"
   ]
  },
  {
   "cell_type": "code",
   "execution_count": 5,
   "metadata": {},
   "outputs": [],
   "source": [
    "def prime_no(n,k):\n",
    "    n,k=min(n,k),max(n,k)\n",
    "    for num in range(n,k+1):\n",
    "        for i in range(2,num):\n",
    "            if(num%i)==0:\n",
    "                break\n",
    "        else:\n",
    "            print(num,end=\" \")"
   ]
  },
  {
   "cell_type": "code",
   "execution_count": 6,
   "metadata": {},
   "outputs": [
    {
     "name": "stdout",
     "output_type": "stream",
     "text": [
      "3 5 7 11 13 17 19 23 29 31 37 41 43 47 "
     ]
    }
   ],
   "source": [
    "prime_no(3,50)"
   ]
  },
  {
   "cell_type": "code",
   "execution_count": 37,
   "metadata": {
    "scrolled": true
   },
   "outputs": [
    {
     "name": "stdout",
     "output_type": "stream",
     "text": [
      "101 103 107 109 113 127 131 137 139 149 151 157 163 167 173 179 181 191 193 197 199 "
     ]
    }
   ],
   "source": [
    "prime_no(100,200)"
   ]
  },
  {
   "cell_type": "code",
   "execution_count": 38,
   "metadata": {},
   "outputs": [
    {
     "name": "stdout",
     "output_type": "stream",
     "text": [
      "2 3 5 7 11 13 17 19 23 29 31 37 "
     ]
    }
   ],
   "source": [
    "prime_no(40,2)"
   ]
  },
  {
   "cell_type": "markdown",
   "metadata": {},
   "source": [
    "2) WAF to find all prime numbers upto a given number n. Use n as the argument"
   ]
  },
  {
   "cell_type": "code",
   "execution_count": 1,
   "metadata": {},
   "outputs": [],
   "source": [
    "def prime(n):\n",
    "    for i in range(2,n):\n",
    "        if n%i==0:\n",
    "            return False\n",
    "    return True"
   ]
  },
  {
   "cell_type": "code",
   "execution_count": 2,
   "metadata": {},
   "outputs": [
    {
     "name": "stdout",
     "output_type": "stream",
     "text": [
      "All primes upto 20 are [2, 3, 5, 7, 11, 13, 17, 19]\n"
     ]
    }
   ],
   "source": [
    "def prime_no1(n):\n",
    "    r=[]\n",
    "    for i in range(2,n):\n",
    "        if prime(i):\n",
    "            r.append(i)\n",
    "    print(f'All primes upto {n} are {r}')\n",
    "prime_no1(20)"
   ]
  },
  {
   "cell_type": "markdown",
   "metadata": {},
   "source": [
    "3) WAF to find kth smallest prime number from a given number n. n and k are arguments"
   ]
  },
  {
   "cell_type": "code",
   "execution_count": 31,
   "metadata": {},
   "outputs": [
    {
     "name": "stdout",
     "output_type": "stream",
     "text": [
      "All prime numbers till 20 are [2, 3, 5, 7, 11, 13, 17, 19]\n",
      "kth smallest prime from 20 is 7\n"
     ]
    }
   ],
   "source": [
    "def ksmallest_prime(n,k):\n",
    "    t=[]\n",
    "    for i in range(2,n) :\n",
    "        if prime(i):\n",
    "            t.append(i)\n",
    "    kthsmallest_prime=t[-k]\n",
    "    print(f'All prime numbers till {n} are {t}')\n",
    "    print(f'kth smallest prime from {n} is {kthsmallest_prime}')\n",
    "ksmallest_prime(20,5)"
   ]
  },
  {
   "cell_type": "markdown",
   "metadata": {},
   "source": [
    "4) WAF to find all prime factors of a number. Given the number as argument"
   ]
  },
  {
   "cell_type": "code",
   "execution_count": 32,
   "metadata": {},
   "outputs": [],
   "source": [
    "def prime_factors(x):\n",
    "    fact_list=[]\n",
    "    d=[]\n",
    "    p=[]\n",
    "    for i in range(1,x):\n",
    "        if x%i==0:\n",
    "            if prime(i):\n",
    "                fact_list.append(i)\n",
    "    print(f'Prime factors of {x} are {fact_list}')  "
   ]
  },
  {
   "cell_type": "code",
   "execution_count": 34,
   "metadata": {
    "scrolled": true
   },
   "outputs": [
    {
     "name": "stdout",
     "output_type": "stream",
     "text": [
      "Prime factors of 45 are [1, 3, 5]\n"
     ]
    }
   ],
   "source": [
    "prime_factors(45)"
   ]
  },
  {
   "cell_type": "markdown",
   "metadata": {},
   "source": [
    "5) WAF to find kth largest prime number from a given number n. n and k are arguments"
   ]
  },
  {
   "cell_type": "code",
   "execution_count": 42,
   "metadata": {},
   "outputs": [
    {
     "name": "stdout",
     "output_type": "stream",
     "text": [
      "All prime numbers till 220 are [23, 29, 31, 37, 41, 43, 47, 53, 59, 61, 67, 71, 73, 79, 83, 89, 97, 101, 103, 107, 109, 113, 127, 131, 137, 139, 149, 151, 157, 163, 167, 173, 179, 181, 191, 193, 197, 199, 211]\n",
      "kth largest prime from 20 is 43\n"
     ]
    }
   ],
   "source": [
    "def klargest_prime(n,k):\n",
    "    y=[]\n",
    "    for i in range(n,n+200) :\n",
    "        if prime(i):\n",
    "            y.append(i)\n",
    "    kthlargest_prime=y[k]\n",
    "    print(f'All prime numbers till {n+200} are {y}')\n",
    "    print(f'kth largest prime from {n} is {kthlargest_prime}')\n",
    "klargest_prime(20,5)"
   ]
  },
  {
   "cell_type": "code",
   "execution_count": null,
   "metadata": {},
   "outputs": [],
   "source": []
  }
 ],
 "metadata": {
  "kernelspec": {
   "display_name": "Python 3",
   "language": "python",
   "name": "python3"
  },
  "language_info": {
   "codemirror_mode": {
    "name": "ipython",
    "version": 3
   },
   "file_extension": ".py",
   "mimetype": "text/x-python",
   "name": "python",
   "nbconvert_exporter": "python",
   "pygments_lexer": "ipython3",
   "version": "3.8.5"
  }
 },
 "nbformat": 4,
 "nbformat_minor": 4
}
