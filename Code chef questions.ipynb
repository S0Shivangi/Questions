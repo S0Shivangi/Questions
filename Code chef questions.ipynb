{
 "cells": [
  {
   "cell_type": "markdown",
   "metadata": {},
   "source": [
    "### Write a program to find the remainder when an integer A is divided by an integer B."
   ]
  },
  {
   "cell_type": "code",
   "execution_count": 12,
   "metadata": {},
   "outputs": [
    {
     "name": "stdout",
     "output_type": "stream",
     "text": [
      "Enter the number: 3\n",
      "Enter the number: 1\n",
      "Enter the number: 2\n",
      "Remainder 1\n",
      "Enter the number: 100\n",
      "Enter the number: 200\n",
      "Remainder 100\n",
      "Enter the number: 40\n",
      "Enter the number: 15\n",
      "Remainder 10\n"
     ]
    }
   ],
   "source": [
    "o=int(input('Enter the number: '))\n",
    "for i in range(0,o):\n",
    "      s=int(input('Enter the number: '))\n",
    "      h=int(input('Enter the number: '))\n",
    "      r=s%h\n",
    "      print('Remainder',r)"
   ]
  },
  {
   "cell_type": "markdown",
   "metadata": {},
   "source": [
    "### If Given an integer N . Write a program to obtain the sum of the first and last digits of this number."
   ]
  },
  {
   "cell_type": "code",
   "execution_count": 31,
   "metadata": {},
   "outputs": [
    {
     "name": "stdout",
     "output_type": "stream",
     "text": [
      "Enter the total number of cases: 3\n",
      "Enter the number: 1234\n",
      "Enter the number: 1234894\n",
      "Enter the number: 242323\n",
      "[5, 5, 5]\n"
     ]
    }
   ],
   "source": [
    "m=int(input('Enter the total number of cases: '))\n",
    "y=[]\n",
    "for i in range(0,m):\n",
    "    n=input('Enter the number: ')\n",
    "    a=int(n[0])\n",
    "    b=int(n[-1])\n",
    "    y.append(a+b)\n",
    "print(y)"
   ]
  }
 ],
 "metadata": {
  "kernelspec": {
   "display_name": "Python 3",
   "language": "python",
   "name": "python3"
  },
  "language_info": {
   "codemirror_mode": {
    "name": "ipython",
    "version": 3
   },
   "file_extension": ".py",
   "mimetype": "text/x-python",
   "name": "python",
   "nbconvert_exporter": "python",
   "pygments_lexer": "ipython3",
   "version": "3.8.5"
  }
 },
 "nbformat": 4,
 "nbformat_minor": 4
}
