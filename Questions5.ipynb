{
 "cells": [
  {
   "cell_type": "markdown",
   "metadata": {},
   "source": [
    "### Valid Triangles\n",
    "Write a program to check whether a triangle is valid or not, when the three angles of the triangle are the inputs. A triangle is valid if the sum of all the three angles is equal to 180 degrees."
   ]
  },
  {
   "cell_type": "code",
   "execution_count": 73,
   "metadata": {},
   "outputs": [
    {
     "name": "stdout",
     "output_type": "stream",
     "text": [
      "Enter the number of testcases: 3\n",
      "Enter the angles: 40 40 100\n",
      "YES\n",
      "Enter the angles: 45 45 90\n",
      "YES\n",
      "Enter the angles: 180 1 1\n",
      "NO\n"
     ]
    }
   ],
   "source": [
    "for _ in range(int(input('Enter the number of testcases: '))):\n",
    "    a1,a2,a3=map(int,input('Enter the angles: ').split())\n",
    "    if a1+a2+a3==180:\n",
    "        print('YES')\n",
    "    else:\n",
    "        print('NO')"
   ]
  },
  {
   "cell_type": "markdown",
   "metadata": {},
   "source": [
    "### Decrement OR Increment\n",
    "Write a program to obtain a number N and increment its value by 1 if the number is divisible by 4 otherwise decrement its value by 1."
   ]
  },
  {
   "cell_type": "code",
   "execution_count": 75,
   "metadata": {},
   "outputs": [
    {
     "name": "stdout",
     "output_type": "stream",
     "text": [
      "Enter the number: 5\n",
      "4\n"
     ]
    }
   ],
   "source": [
    "n=int(input('Enter the number: '))\n",
    "if n/4==0:\n",
    "    print(n+1)\n",
    "else:\n",
    "    print(n-1)"
   ]
  },
  {
   "cell_type": "markdown",
   "metadata": {},
   "source": [
    "### Mahasena\n",
    "Kattapa, as you all know was one of the greatest warriors of his time. The kingdom of Maahishmati had never lost a battle under him (as army-chief), and the reason for that was their really powerful army, also called as Mahasena.\n",
    "<br><br>\n",
    "Kattapa was known to be a very superstitious person. He believed that a soldier is \"lucky\" if the soldier is holding an even number of weapons, and \"unlucky\" otherwise. He considered the army as \"READY FOR BATTLE\" if the count of \"lucky\" soldiers is strictly greater than the count of \"unlucky\" soldiers, and \"NOT READY\" otherwise.\n",
    "<br><br>\n",
    "Given the number of weapons each soldier is holding, your task is to determine whether the army formed by all these soldiers is \"READY FOR BATTLE\" or \"NOT READY\""
   ]
  },
  {
   "cell_type": "code",
   "execution_count": 81,
   "metadata": {},
   "outputs": [
    {
     "name": "stdout",
     "output_type": "stream",
     "text": [
      "Enter the number of soldiers: 5\n",
      "Enter the number of weapons: 1 2 3 4 5\n",
      "2\n",
      "NOT READY\n"
     ]
    }
   ],
   "source": [
    "n=int(input(\"Enter the number of soldiers: \"))\n",
    "w=input(\"Enter the number of weapons: \").split()\n",
    "c=0\n",
    "for i in range(len(w)):\n",
    "    if int(w[i])%2==0:\n",
    "        c+=1\n",
    "print(c)\n",
    "if c>n/2:\n",
    "    print('READY FOR BATTLE')\n",
    "else:\n",
    "    print('NOT READY')"
   ]
  },
  {
   "cell_type": "markdown",
   "metadata": {},
   "source": [
    "### Sum OR Difference\n",
    "Write a program to take two numbers as input and print their difference if the first number is greater than the second number otherwise print their sum."
   ]
  },
  {
   "cell_type": "code",
   "execution_count": 87,
   "metadata": {},
   "outputs": [
    {
     "name": "stdout",
     "output_type": "stream",
     "text": [
      "Enter the First number: 84\n",
      "Enter the Second number: 84\n",
      "168\n"
     ]
    }
   ],
   "source": [
    "n1=int(input(\"Enter the First number: \"))\n",
    "n2=int(input(\"Enter the Second number: \"))\n",
    "if n1>n2:\n",
    "    print(n1-n2)\n",
    "else :\n",
    "    print(n1+n2)"
   ]
  }
 ],
 "metadata": {
  "kernelspec": {
   "display_name": "Python 3",
   "language": "python",
   "name": "python3"
  },
  "language_info": {
   "codemirror_mode": {
    "name": "ipython",
    "version": 3
   },
   "file_extension": ".py",
   "mimetype": "text/x-python",
   "name": "python",
   "nbconvert_exporter": "python",
   "pygments_lexer": "ipython3",
   "version": "3.8.5"
  }
 },
 "nbformat": 4,
 "nbformat_minor": 4
}
