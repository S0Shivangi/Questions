{
 "cells": [
  {
   "cell_type": "markdown",
   "metadata": {},
   "source": [
    "### Small factorials\n",
    "You are asked to calculate factorials of some small positive integers."
   ]
  },
  {
   "cell_type": "code",
   "execution_count": 22,
   "metadata": {},
   "outputs": [],
   "source": [
    "import math as m"
   ]
  },
  {
   "cell_type": "code",
   "execution_count": 23,
   "metadata": {},
   "outputs": [
    {
     "name": "stdout",
     "output_type": "stream",
     "text": [
      "Enter the number of cases: 4\n",
      "Enter the number1\n",
      "1\n",
      "Enter the number2\n",
      "2\n",
      "Enter the number5\n",
      "120\n",
      "Enter the number3\n",
      "6\n"
     ]
    }
   ],
   "source": [
    "t=int(input('Enter the number of cases: '))\n",
    "for i in range(t):\n",
    "    n=int(input('Enter the number'))\n",
    "    print(m.factorial(n)) "
   ]
  },
  {
   "cell_type": "markdown",
   "metadata": {},
   "source": [
    "### Reverse The Number\n",
    "Given an Integer N, write a program to reverse it."
   ]
  },
  {
   "cell_type": "code",
   "execution_count": 51,
   "metadata": {},
   "outputs": [
    {
     "name": "stdout",
     "output_type": "stream",
     "text": [
      "Enter the number of testcases4\n",
      "Enter the integer12345\n",
      "54321\n",
      "Enter the integer31203\n",
      "30213\n",
      "Enter the integer2123\n",
      "3212\n",
      "Enter the integer2300\n",
      "32\n"
     ]
    }
   ],
   "source": [
    "t=int(input('Enter the number of testcases'))\n",
    "for i in range(t):\n",
    "    n=int(input('Enter the integer'))\n",
    "    s=0\n",
    "    while n>0:\n",
    "        k=n%10\n",
    "        s=(s*10)+k\n",
    "        n=n//10\n",
    "    print(s)"
   ]
  },
  {
   "cell_type": "markdown",
   "metadata": {},
   "source": [
    "### Or"
   ]
  },
  {
   "cell_type": "code",
   "execution_count": 52,
   "metadata": {},
   "outputs": [
    {
     "name": "stdout",
     "output_type": "stream",
     "text": [
      "Enter the number of testcases4\n",
      "Enter the integer12345\n",
      "54321\n",
      "Enter the integer31203\n",
      "30213\n",
      "Enter the integer2123\n",
      "3212\n",
      "Enter the integer2300\n",
      "32\n"
     ]
    }
   ],
   "source": [
    "t=int(input('Enter the number of testcases'))\n",
    "for i in range(t):\n",
    "    n=input('Enter the integer')\n",
    "    print(int(n[::-1]))"
   ]
  },
  {
   "cell_type": "markdown",
   "metadata": {},
   "source": [
    "### Turbo Sort\n",
    "Given the list of numbers, you are to sort them in non decreasing order."
   ]
  },
  {
   "cell_type": "code",
   "execution_count": 60,
   "metadata": {
    "scrolled": true
   },
   "outputs": [
    {
     "name": "stdout",
     "output_type": "stream",
     "text": [
      "Enter the number of testcases: 5\n",
      "Enter the number5\n",
      "Enter the number3\n",
      "Enter the number6\n",
      "Enter the number7\n",
      "Enter the number1\n",
      "[1, 3, 5, 6, 7]\n"
     ]
    }
   ],
   "source": [
    "m=[]\n",
    "for _ in range(int(input('Enter the number of testcases: '))):\n",
    "    n=int(input('Enter the number'))\n",
    "    m.append(n)\n",
    "m.sort()\n",
    "print(m)"
   ]
  },
  {
   "cell_type": "markdown",
   "metadata": {},
   "source": [
    "### Finding Square Roots \n",
    "In olden days finding square roots seemed to be difficult but nowadays it can be easily done using in-built functions available across many languages .\n",
    "\n",
    "Assume that you happen to hear the above words and you want to give a try in finding the square root of any given integer using in-built functions. So here's your chance."
   ]
  },
  {
   "cell_type": "code",
   "execution_count": 62,
   "metadata": {},
   "outputs": [
    {
     "name": "stdout",
     "output_type": "stream",
     "text": [
      "Enter the number of testcases: 3\n",
      "Enter the number10\n",
      "3\n",
      "Enter the number5\n",
      "2\n",
      "Enter the number10000\n",
      "100\n"
     ]
    }
   ],
   "source": [
    "for _ in range(int(input('Enter the number of testcases: '))):\n",
    "    n=int(input('Enter the number'))\n",
    "    sqr=n**(1/2)\n",
    "    print(int(sqr))"
   ]
  },
  {
   "cell_type": "code",
   "execution_count": null,
   "metadata": {},
   "outputs": [],
   "source": []
  }
 ],
 "metadata": {
  "kernelspec": {
   "display_name": "Python 3",
   "language": "python",
   "name": "python3"
  },
  "language_info": {
   "codemirror_mode": {
    "name": "ipython",
    "version": 3
   },
   "file_extension": ".py",
   "mimetype": "text/x-python",
   "name": "python",
   "nbconvert_exporter": "python",
   "pygments_lexer": "ipython3",
   "version": "3.8.5"
  }
 },
 "nbformat": 4,
 "nbformat_minor": 4
}
